{
 "cells": [
  {
   "cell_type": "markdown",
   "metadata": {},
   "source": [
    "# Split and normalize the dataset to fit and test"
   ]
  },
  {
   "cell_type": "code",
   "execution_count": null,
   "metadata": {},
   "outputs": [],
   "source": [
    "import pandas as pd\n",
    "from sklearn import preprocessing, linear_model\n",
    "from sklearn.model_selection import train_test_split\n",
    "import math\n",
    "from sklearn.metrics import mean_squared_error\n",
    "from sklearn.linear_model import Lasso\n",
    "from sklearn.linear_model import Ridge\n",
    "from sklearn.ensemble import RandomForestRegressor\n",
    "import lightgbm as lgb\n",
    "import xgboost as xgb"
   ]
  },
  {
   "cell_type": "code",
   "execution_count": null,
   "metadata": {},
   "outputs": [],
   "source": [
    "df = pd.read_csv('cleaned_csv.csv')\n",
    "\n",
    "df.columns"
   ]
  },
  {
   "cell_type": "markdown",
   "metadata": {},
   "source": [
    "## Split the dataset\n",
    "The target column is 'Life expectancy'."
   ]
  },
  {
   "cell_type": "code",
   "execution_count": null,
   "metadata": {},
   "outputs": [],
   "source": [
    "X = df.drop(['Life expectancy'], axis=1)\n",
    "Y = df['Life expectancy']\n",
    "X_train , X_test , Y_train , Y_test = train_test_split(X,Y, test_size = 0.2 , random_state = 1)"
   ]
  },
  {
   "cell_type": "markdown",
   "metadata": {},
   "source": [
    "## Scale the dataset"
   ]
  },
  {
   "cell_type": "code",
   "execution_count": null,
   "metadata": {},
   "outputs": [],
   "source": [
    "y_scaler = preprocessing.MinMaxScaler()\n",
    "x_scaler = preprocessing.MinMaxScaler()\n",
    "X_train_scaled = x_scaler.fit_transform(X_train.values)\n",
    "y_train_scaled = y_scaler.fit_transform(Y_train.values.reshape(-1, 1))\n",
    "X_test_scaled = x_scaler.fit_transform(X_test.values)\n",
    "y_test_scaled = y_scaler.fit_transform(Y_test.values.reshape(-1, 1))"
   ]
  },
  {
   "cell_type": "markdown",
   "metadata": {},
   "source": [
    "## Models"
   ]
  },
  {
   "cell_type": "markdown",
   "metadata": {},
   "source": [
    "### Lasso Regression"
   ]
  },
  {
   "cell_type": "code",
   "execution_count": null,
   "metadata": {},
   "outputs": [],
   "source": [
    "lasso_r = Lasso(alpha=0.01)\n",
    "lasso_r.fit(X_train_scaled, y_train_scaled)\n",
    "predictions = lasso_r.predict(X_test_scaled)"
   ]
  },
  {
   "cell_type": "markdown",
   "metadata": {},
   "source": [
    "#### Test Lasso Regression"
   ]
  },
  {
   "cell_type": "code",
   "execution_count": null,
   "metadata": {},
   "outputs": [],
   "source": [
    "print('R2-squared:', lasso_r.score(X_test_scaled, y_test_scaled))\n",
    "print('mean squared error:', mean_squared_error(y_test_scaled, predictions))\n",
    "print('root squared mean squared error:', math.sqrt(mean_squared_error(y_test_scaled, predictions)))"
   ]
  },
  {
   "cell_type": "markdown",
   "metadata": {},
   "source": [
    "#### Test Lasso Regression using original scale"
   ]
  },
  {
   "cell_type": "code",
   "execution_count": null,
   "metadata": {},
   "outputs": [],
   "source": [
    "ypred = y_scaler.inverse_transform(predictions.reshape(-1, 1))\n",
    "print(Y_test.shape)\n",
    "ypred = ypred.reshape(Y_test.shape[0],)\n",
    "print(ypred.shape)\n",
    "print('mean squared error:', mean_squared_error(Y_test, ypred))\n",
    "print('root squared mean squared error:', math.sqrt(mean_squared_error(Y_test, ypred)))"
   ]
  },
  {
   "cell_type": "markdown",
   "metadata": {},
   "source": [
    "### Ridge Regression"
   ]
  },
  {
   "cell_type": "code",
   "execution_count": null,
   "metadata": {},
   "outputs": [],
   "source": [
    "ridge_r = Ridge(alpha=0.01, random_state=938)\n",
    "ridge_r.fit(X_train_scaled, y_train_scaled)\n",
    "predictions = ridge_r.predict(X_test_scaled)"
   ]
  },
  {
   "cell_type": "markdown",
   "metadata": {},
   "source": [
    "#### Test Ridge Regression"
   ]
  },
  {
   "cell_type": "code",
   "execution_count": null,
   "metadata": {},
   "outputs": [],
   "source": [
    "print('R2-squared:', ridge_r.score(X_test_scaled, y_test_scaled))\n",
    "print('mean squared error:', mean_squared_error(y_test_scaled, predictions))\n",
    "print('root squared mean squared error:', math.sqrt(mean_squared_error(y_test_scaled, predictions)))"
   ]
  },
  {
   "cell_type": "markdown",
   "metadata": {},
   "source": [
    "#### Test Ridge Regression using original scale"
   ]
  },
  {
   "cell_type": "code",
   "execution_count": null,
   "metadata": {},
   "outputs": [],
   "source": [
    "ypred = y_scaler.inverse_transform(predictions.reshape(-1, 1))\n",
    "print(Y_test.shape)\n",
    "ypred = ypred.reshape(Y_test.shape[0],)\n",
    "print(ypred.shape)\n",
    "print('mean squared error:', mean_squared_error(Y_test, ypred))\n",
    "print('root squared mean squared error:', math.sqrt(mean_squared_error(Y_test, ypred)))"
   ]
  },
  {
   "cell_type": "markdown",
   "metadata": {},
   "source": [
    "### Random Forest"
   ]
  },
  {
   "cell_type": "code",
   "execution_count": null,
   "metadata": {},
   "outputs": [],
   "source": [
    "rf_model = RandomForestRegressor(n_estimators = 10, random_state = 123)\n",
    "rf_model = rf_model.fit(X_train_scaled, y_train_scaled.ravel())\n",
    "predictions = rf_model.predict(X_test_scaled)"
   ]
  },
  {
   "cell_type": "markdown",
   "metadata": {},
   "source": [
    "#### Test Random Forest"
   ]
  },
  {
   "cell_type": "code",
   "execution_count": null,
   "metadata": {},
   "outputs": [],
   "source": [
    "print('R2-squared:', rf_model.score(X_test_scaled, y_test_scaled))\n",
    "print('mean squared error:', mean_squared_error(y_test_scaled, predictions))\n",
    "print('root squared mean squared error:', math.sqrt(mean_squared_error(y_test_scaled, predictions)))"
   ]
  },
  {
   "cell_type": "markdown",
   "metadata": {},
   "source": [
    "#### Test Random Forest using original scale"
   ]
  },
  {
   "cell_type": "code",
   "execution_count": null,
   "metadata": {},
   "outputs": [],
   "source": [
    "ypred = y_scaler.inverse_transform(predictions.reshape(-1, 1))\n",
    "print(Y_test.shape)\n",
    "ypred = ypred.reshape(Y_test.shape[0],)\n",
    "print(ypred.shape)\n",
    "print('mean squared error:', mean_squared_error(Y_test, ypred))\n",
    "print('root squared mean squared error:', math.sqrt(mean_squared_error(Y_test, ypred)))"
   ]
  },
  {
   "cell_type": "markdown",
   "metadata": {},
   "source": [
    "### LightGBM"
   ]
  },
  {
   "cell_type": "code",
   "execution_count": null,
   "metadata": {},
   "outputs": [],
   "source": [
    "gbm = lgb.LGBMRegressor()\n",
    "gbm.fit(X_train_scaled, y_train_scaled.ravel())\n",
    "predictions = gbm.predict(X_test_scaled)"
   ]
  },
  {
   "cell_type": "markdown",
   "metadata": {},
   "source": [
    "#### Test LightGBM"
   ]
  },
  {
   "cell_type": "code",
   "execution_count": null,
   "metadata": {},
   "outputs": [],
   "source": [
    "print('R2-squared:', gbm.score(X_test_scaled, y_test_scaled))\n",
    "print('mean squared error:', mean_squared_error(y_test_scaled, predictions))\n",
    "print('root squared mean squared error:', math.sqrt(mean_squared_error(y_test_scaled, predictions)))"
   ]
  },
  {
   "cell_type": "markdown",
   "metadata": {},
   "source": [
    "#### Test LightGBM using original scale"
   ]
  },
  {
   "cell_type": "code",
   "execution_count": null,
   "metadata": {},
   "outputs": [],
   "source": [
    "ypred = y_scaler.inverse_transform(predictions.reshape(-1, 1))\n",
    "print(Y_test.shape)\n",
    "ypred = ypred.reshape(Y_test.shape[0],)\n",
    "print(ypred.shape)\n",
    "print('mean squared error:', mean_squared_error(Y_test, ypred))\n",
    "print('root squared mean squared error:', math.sqrt(mean_squared_error(Y_test, ypred)))"
   ]
  },
  {
   "cell_type": "markdown",
   "metadata": {},
   "source": [
    "### XGBoost"
   ]
  },
  {
   "cell_type": "code",
   "execution_count": null,
   "metadata": {},
   "outputs": [],
   "source": [
    "xg_reg = xgb.XGBRegressor(objective ='reg:logistic', \n",
    "                          colsample_bytree = 0.5, \n",
    "                          learning_rate = 0.5,\n",
    "                          max_depth = 20, \n",
    "                          alpha = 10, \n",
    "                          n_estimators = 10)\n",
    "xg_reg.fit(X_train_scaled, y_train_scaled.ravel())\n",
    "predictions = xg_reg.predict(X_test_scaled)"
   ]
  },
  {
   "cell_type": "markdown",
   "metadata": {},
   "source": [
    "#### Test XGBoost"
   ]
  },
  {
   "cell_type": "code",
   "execution_count": null,
   "metadata": {},
   "outputs": [],
   "source": [
    "print('mean squared error:', mean_squared_error(y_test_scaled, predictions))\n",
    "print('root squared mean squared error:', math.sqrt(mean_squared_error(y_test_scaled, predictions)))"
   ]
  },
  {
   "cell_type": "markdown",
   "metadata": {},
   "source": [
    "#### Test  XGBoost using original scale"
   ]
  },
  {
   "cell_type": "code",
   "execution_count": null,
   "metadata": {},
   "outputs": [],
   "source": [
    "ypred = y_scaler.inverse_transform(predictions.reshape(-1, 1))\n",
    "ypred = ypred.reshape(Y_test.shape[0],)\n",
    "print('mean squared error:', mean_squared_error(Y_test, ypred))\n",
    "print('root squared mean squared error:', math.sqrt(mean_squared_error(Y_test, ypred)))"
   ]
  }
 ],
 "metadata": {
  "kernelspec": {
   "display_name": "Python 3",
   "language": "python",
   "name": "python3"
  },
  "language_info": {
   "codemirror_mode": {
    "name": "ipython",
    "version": 3
   },
   "file_extension": ".py",
   "mimetype": "text/x-python",
   "name": "python",
   "nbconvert_exporter": "python",
   "pygments_lexer": "ipython3",
   "version": "3.6.12"
  }
 },
 "nbformat": 4,
 "nbformat_minor": 4
}
