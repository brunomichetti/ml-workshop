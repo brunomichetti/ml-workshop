{
 "cells": [
  {
   "cell_type": "markdown",
   "metadata": {},
   "source": [
    "# Split and normalize the dataset to fit and test"
   ]
  },
  {
   "cell_type": "code",
   "execution_count": 1,
   "metadata": {},
   "outputs": [],
   "source": [
    "import pandas as pd\n",
    "from sklearn import preprocessing, linear_model\n",
    "from sklearn.model_selection import train_test_split\n",
    "import math\n",
    "from sklearn.metrics import mean_squared_error\n",
    "from sklearn.linear_model import Lasso\n",
    "from sklearn.linear_model import Ridge\n",
    "from sklearn.ensemble import RandomForestRegressor\n",
    "import lightgbm as lgb\n"
   ]
  },
  {
   "cell_type": "code",
   "execution_count": 2,
   "metadata": {},
   "outputs": [
    {
     "data": {
      "text/plain": [
       "Index(['Year', 'Life expectancy', 'Adult Mortality', 'infant deaths',\n",
       "       'Alcohol', 'percentage expenditure', 'Hepatitis B', 'Measles', 'BMI',\n",
       "       'under-five deaths',\n",
       "       ...\n",
       "       'Country-United Republic of Tanzania',\n",
       "       'Country-United States of America', 'Country-Uruguay',\n",
       "       'Country-Uzbekistan', 'Country-Vanuatu',\n",
       "       'Country-Venezuela (Bolivarian Republic of)', 'Country-Viet Nam',\n",
       "       'Country-Yemen', 'Country-Zambia', 'Country-Zimbabwe'],\n",
       "      dtype='object', length=203)"
      ]
     },
     "execution_count": 2,
     "metadata": {},
     "output_type": "execute_result"
    }
   ],
   "source": [
    "df = pd.read_csv('cleaned_csv.csv')\n",
    "\n",
    "df.columns"
   ]
  },
  {
   "cell_type": "markdown",
   "metadata": {},
   "source": [
    "## Split the dataset\n",
    "The target column is 'Life expectancy'."
   ]
  },
  {
   "cell_type": "code",
   "execution_count": 3,
   "metadata": {},
   "outputs": [],
   "source": [
    "X = df.drop(['Life expectancy'], axis=1)\n",
    "Y = df['Life expectancy']\n",
    "X_train , X_test , Y_train , Y_test = train_test_split(X,Y, test_size = 0.2 , random_state = 1)"
   ]
  },
  {
   "cell_type": "markdown",
   "metadata": {},
   "source": [
    "## Scale the dataset"
   ]
  },
  {
   "cell_type": "code",
   "execution_count": 4,
   "metadata": {},
   "outputs": [],
   "source": [
    "y_scaler = preprocessing.MinMaxScaler()\n",
    "x_scaler = preprocessing.MinMaxScaler()\n",
    "X_train_scaled = x_scaler.fit_transform(X_train.values)\n",
    "y_train_scaled = y_scaler.fit_transform(Y_train.values.reshape(-1, 1))\n",
    "X_test_scaled = x_scaler.fit_transform(X_test.values)\n",
    "y_test_scaled = y_scaler.fit_transform(Y_test.values.reshape(-1, 1))"
   ]
  },
  {
   "cell_type": "markdown",
   "metadata": {},
   "source": [
    "## Models"
   ]
  },
  {
   "cell_type": "markdown",
   "metadata": {},
   "source": [
    "### Lasso Regression"
   ]
  },
  {
   "cell_type": "code",
   "execution_count": 5,
   "metadata": {},
   "outputs": [],
   "source": [
    "lasso_r = Lasso(alpha=0.01)\n",
    "lasso_r.fit(X_train_scaled, y_train_scaled)\n",
    "predictions = lasso_r.predict(X_test_scaled)"
   ]
  },
  {
   "cell_type": "markdown",
   "metadata": {},
   "source": [
    "#### Test Lasso Regression"
   ]
  },
  {
   "cell_type": "code",
   "execution_count": 6,
   "metadata": {},
   "outputs": [
    {
     "name": "stdout",
     "output_type": "stream",
     "text": [
      "R2-squared: 0.5713522254205673\n",
      "mean squared error: 0.015184796365601667\n",
      "root squared mean squared error: 0.1232266057537968\n"
     ]
    }
   ],
   "source": [
    "print('R2-squared:', lasso_r.score(X_test_scaled, y_test_scaled))\n",
    "print('mean squared error:', mean_squared_error(y_test_scaled, predictions))\n",
    "print('root squared mean squared error:', math.sqrt(mean_squared_error(y_test_scaled, predictions)))"
   ]
  },
  {
   "cell_type": "markdown",
   "metadata": {},
   "source": [
    "#### Test Lasso Regression using original scale"
   ]
  },
  {
   "cell_type": "code",
   "execution_count": 7,
   "metadata": {},
   "outputs": [
    {
     "name": "stdout",
     "output_type": "stream",
     "text": [
      "(586,)\n",
      "(586,)\n",
      "mean squared error: 37.961990914004176\n",
      "root squared mean squared error: 6.16133028768984\n"
     ]
    }
   ],
   "source": [
    "ypred = y_scaler.inverse_transform(predictions.reshape(-1, 1))\n",
    "print(Y_test.shape)\n",
    "ypred = ypred.reshape(Y_test.shape[0],)\n",
    "print(ypred.shape)\n",
    "print('mean squared error:', mean_squared_error(Y_test, ypred))\n",
    "print('root squared mean squared error:', math.sqrt(mean_squared_error(Y_test, ypred)))"
   ]
  },
  {
   "cell_type": "markdown",
   "metadata": {},
   "source": [
    "### Ridge Regression"
   ]
  },
  {
   "cell_type": "code",
   "execution_count": 8,
   "metadata": {},
   "outputs": [],
   "source": [
    "ridge_r = Ridge(alpha=0.01, random_state=938)\n",
    "ridge_r.fit(X_train_scaled, y_train_scaled)\n",
    "predictions = ridge_r.predict(X_test_scaled)"
   ]
  },
  {
   "cell_type": "markdown",
   "metadata": {},
   "source": [
    "#### Test Ridge Regression"
   ]
  },
  {
   "cell_type": "code",
   "execution_count": 9,
   "metadata": {},
   "outputs": [
    {
     "name": "stdout",
     "output_type": "stream",
     "text": [
      "R2-squared: 0.9476750828822106\n",
      "mean squared error: 0.001853603957375453\n",
      "root squared mean squared error: 0.04305350110473541\n"
     ]
    }
   ],
   "source": [
    "print('R2-squared:', ridge_r.score(X_test_scaled, y_test_scaled))\n",
    "print('mean squared error:', mean_squared_error(y_test_scaled, predictions))\n",
    "print('root squared mean squared error:', math.sqrt(mean_squared_error(y_test_scaled, predictions)))"
   ]
  },
  {
   "cell_type": "markdown",
   "metadata": {},
   "source": [
    "#### Test Ridge Regression using original scale"
   ]
  },
  {
   "cell_type": "code",
   "execution_count": 10,
   "metadata": {},
   "outputs": [
    {
     "name": "stdout",
     "output_type": "stream",
     "text": [
      "(586,)\n",
      "(586,)\n",
      "mean squared error: 4.634009893438632\n",
      "root squared mean squared error: 2.15267505523677\n"
     ]
    }
   ],
   "source": [
    "ypred = y_scaler.inverse_transform(predictions.reshape(-1, 1))\n",
    "print(Y_test.shape)\n",
    "ypred = ypred.reshape(Y_test.shape[0],)\n",
    "print(ypred.shape)\n",
    "print('mean squared error:', mean_squared_error(Y_test, ypred))\n",
    "print('root squared mean squared error:', math.sqrt(mean_squared_error(Y_test, ypred)))"
   ]
  },
  {
   "cell_type": "markdown",
   "metadata": {},
   "source": [
    "### Random Forest"
   ]
  },
  {
   "cell_type": "code",
   "execution_count": 11,
   "metadata": {},
   "outputs": [
    {
     "name": "stderr",
     "output_type": "stream",
     "text": [
      "<ipython-input-11-6883a55e8907>:2: DataConversionWarning: A column-vector y was passed when a 1d array was expected. Please change the shape of y to (n_samples,), for example using ravel().\n",
      "  rf_model = rf_model.fit(X_train_scaled, y_train_scaled)\n"
     ]
    }
   ],
   "source": [
    "rf_model = RandomForestRegressor(n_estimators = 10, random_state = 123)\n",
    "rf_model = rf_model.fit(X_train_scaled, y_train_scaled.values.ravel())\n",
    "predictions = rf_model.predict(X_test_scaled)"
   ]
  },
  {
   "cell_type": "markdown",
   "metadata": {},
   "source": [
    "#### Test Random Forest"
   ]
  },
  {
   "cell_type": "code",
   "execution_count": 12,
   "metadata": {},
   "outputs": [
    {
     "name": "stdout",
     "output_type": "stream",
     "text": [
      "R2-squared: 0.943333932887834\n",
      "mean squared error: 0.002007388678926423\n",
      "root squared mean squared error: 0.04480389133687411\n"
     ]
    }
   ],
   "source": [
    "print('R2-squared:', rf_model.score(X_test_scaled, y_test_scaled))\n",
    "print('mean squared error:', mean_squared_error(y_test_scaled, predictions))\n",
    "print('root squared mean squared error:', math.sqrt(mean_squared_error(y_test_scaled, predictions)))"
   ]
  },
  {
   "cell_type": "markdown",
   "metadata": {},
   "source": [
    "#### Test Random Forest using original scale"
   ]
  },
  {
   "cell_type": "code",
   "execution_count": 13,
   "metadata": {},
   "outputs": [
    {
     "name": "stdout",
     "output_type": "stream",
     "text": [
      "(586,)\n",
      "(586,)\n",
      "mean squared error: 5.018471697316057\n",
      "root squared mean squared error: 2.2401945668437055\n"
     ]
    }
   ],
   "source": [
    "ypred = y_scaler.inverse_transform(predictions.reshape(-1, 1))\n",
    "print(Y_test.shape)\n",
    "ypred = ypred.reshape(Y_test.shape[0],)\n",
    "print(ypred.shape)\n",
    "print('mean squared error:', mean_squared_error(Y_test, ypred))\n",
    "print('root squared mean squared error:', math.sqrt(mean_squared_error(Y_test, ypred)))"
   ]
  },
  {
   "cell_type": "markdown",
   "metadata": {},
   "source": [
    "### LightGBM"
   ]
  },
  {
   "cell_type": "code",
   "execution_count": 14,
   "metadata": {},
   "outputs": [
    {
     "name": "stderr",
     "output_type": "stream",
     "text": [
      "/Users/brunomichetti/work/ml-workshop/env-ml/lib/python3.8/site-packages/sklearn/utils/validation.py:72: DataConversionWarning: A column-vector y was passed when a 1d array was expected. Please change the shape of y to (n_samples, ), for example using ravel().\n",
      "  return f(**kwargs)\n"
     ]
    }
   ],
   "source": [
    "gbm = lgb.LGBMRegressor()\n",
    "gbm.fit(X_train_scaled, y_train_scaled.values.ravel())\n",
    "predictions = gbm.predict(X_test_scaled)"
   ]
  },
  {
   "cell_type": "markdown",
   "metadata": {},
   "source": [
    "#### Test LightGBM"
   ]
  },
  {
   "cell_type": "code",
   "execution_count": 15,
   "metadata": {},
   "outputs": [
    {
     "name": "stdout",
     "output_type": "stream",
     "text": [
      "R2-squared: 0.9470764760932004\n",
      "mean squared error: 0.0018748095315863627\n",
      "root squared mean squared error: 0.043299070793567415\n"
     ]
    }
   ],
   "source": [
    "print('R2-squared:', gbm.score(X_test_scaled, y_test_scaled))\n",
    "print('mean squared error:', mean_squared_error(y_test_scaled, predictions))\n",
    "print('root squared mean squared error:', math.sqrt(mean_squared_error(y_test_scaled, predictions)))"
   ]
  },
  {
   "cell_type": "markdown",
   "metadata": {},
   "source": [
    "#### Test LightGBM using original scale"
   ]
  },
  {
   "cell_type": "code",
   "execution_count": 16,
   "metadata": {},
   "outputs": [
    {
     "name": "stdout",
     "output_type": "stream",
     "text": [
      "(586,)\n",
      "(586,)\n",
      "mean squared error: 4.687023828965906\n",
      "root squared mean squared error: 2.1649535396783706\n"
     ]
    }
   ],
   "source": [
    "ypred = y_scaler.inverse_transform(predictions.reshape(-1, 1))\n",
    "print(Y_test.shape)\n",
    "ypred = ypred.reshape(Y_test.shape[0],)\n",
    "print(ypred.shape)\n",
    "print('mean squared error:', mean_squared_error(Y_test, ypred))\n",
    "print('root squared mean squared error:', math.sqrt(mean_squared_error(Y_test, ypred)))"
   ]
  }
 ],
 "metadata": {
  "kernelspec": {
   "display_name": "Python 3",
   "language": "python",
   "name": "python3"
  },
  "language_info": {
   "codemirror_mode": {
    "name": "ipython",
    "version": 3
   },
   "file_extension": ".py",
   "mimetype": "text/x-python",
   "name": "python",
   "nbconvert_exporter": "python",
   "pygments_lexer": "ipython3",
   "version": "3.8.3"
  }
 },
 "nbformat": 4,
 "nbformat_minor": 4
}
